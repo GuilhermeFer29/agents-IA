{
 "cells": [
  {
   "cell_type": "code",
   "execution_count": 5,
   "metadata": {},
   "outputs": [],
   "source": [
    "__import__('pysqlite3')\n",
    "import sys\n",
    "sys.modules['sqlite3'] = sys.modules.pop('pysqlite3')\n",
    "\n",
    "from langchain_openai import OpenAIEmbeddings\n",
    "from langchain_chroma import Chroma\n",
    "from langchain_community.document_loaders.pdf import PyPDFLoader\n",
    "from langchain_text_splitters import RecursiveCharacterTextSplitter"
   ]
  },
  {
   "cell_type": "code",
   "execution_count": 6,
   "metadata": {},
   "outputs": [],
   "source": [
    "caminhos =[\n",
    "    \"../arquivos/Explorando o Universo das IAs com Hugging Face.pdf\",\n",
    "    \"../arquivos/Apostila LangChain.pdf\",\n",
    "    \"../arquivos/Explorando a API da OpenAI.pdf\",\n",
    "    \n",
    "]\n",
    "\n",
    "paginas = []\n",
    "\n",
    "for caminho in caminhos:\n",
    "    loader = PyPDFLoader(caminho)\n",
    "    paginas.extend(loader.load())\n",
    "    \n",
    "recur_split= RecursiveCharacterTextSplitter(\n",
    "    chunk_size=1000,\n",
    "    chunk_overlap=100,\n",
    "    separators=[\"\\n\\n\", \"\\n\", \" \", \"\"]\n",
    ")\n",
    "\n",
    "documents = recur_split.split_documents(paginas)\n",
    "\n",
    "for i, doc in enumerate(documents):\n",
    "    doc.metadata[\"source\"] = doc.metadata[\"source\"].replace(\"../arquivos/\", \"\")\n",
    "    doc.metadata[\"doc_id\"] = i"
   ]
  },
  {
   "cell_type": "code",
   "execution_count": 7,
   "metadata": {},
   "outputs": [],
   "source": [
    "diretorio = '../arquivos/chat_retrieval_db'\n",
    "\n",
    "embedding_model = OpenAIEmbeddings()\n",
    "\n",
    "\n",
    "vectordb = Chroma.from_documents(\n",
    "    documents = documents,\n",
    "    embedding=embedding_model,\n",
    "    persist_directory=diretorio\n",
    ")"
   ]
  },
  {
   "cell_type": "markdown",
   "metadata": {},
   "source": [
    "## Criando Estrutura de Chat\n"
   ]
  },
  {
   "cell_type": "code",
   "execution_count": 8,
   "metadata": {},
   "outputs": [],
   "source": [
    "from langchain_openai.chat_models import ChatOpenAI\n",
    "\n",
    "chat = ChatOpenAI(\n",
    "    model_name=\"gpt-3.5-turbo-0125\",)\n",
    "\n"
   ]
  },
  {
   "cell_type": "code",
   "execution_count": 9,
   "metadata": {},
   "outputs": [],
   "source": [
    "from langchain.chains.retrieval_qa.base import RetrievalQA\n",
    "\n",
    "chat_chain = RetrievalQA.from_chain_type(\n",
    "    llm=chat,\n",
    "    retriever=vectordb.as_retriever(search_type='mmr'),\n",
    "    \n",
    "    )"
   ]
  },
  {
   "cell_type": "code",
   "execution_count": 10,
   "metadata": {},
   "outputs": [
    {
     "data": {
      "text/plain": [
       "{'query': 'Oque é Hugging Face e como faço para usar?',\n",
       " 'result': 'O Hugging Face é uma plataforma que oferece uma variedade de modelos de inteligência artificial pré-treinados, datasets e outras ferramentas relacionadas a IA. Para usar o Hugging Face, é necessário criar uma conta na plataforma, seguir os passos de autenticação e autorização para acessar modelos restritos, e então é possível utilizar os modelos disponíveis para diferentes tarefas de processamento de linguagem natural e outras aplicações de IA.'}"
      ]
     },
     "execution_count": 10,
     "metadata": {},
     "output_type": "execute_result"
    }
   ],
   "source": [
    "pergunta = \"Oque é Hugging Face e como faço para usar?\"\n",
    "\n",
    "chat_chain.invoke({\"query\": pergunta})"
   ]
  },
  {
   "cell_type": "markdown",
   "metadata": {},
   "source": [
    "#### Modificando Prompt da chain "
   ]
  },
  {
   "cell_type": "code",
   "execution_count": 11,
   "metadata": {},
   "outputs": [],
   "source": [
    "from langchain.prompts import PromptTemplate\n",
    "\n",
    "chain_prompt = PromptTemplate.from_template(\n",
    "    \"\"\"\n",
    "    Utilize o contexto fornecido para responder a pergunta ao final .\n",
    "    Se você não sabe a resposta, apenas diga que não sabe, não tente inventar uma resposta.\n",
    "    Utilize três frases no máximo e mantenha a resposta sucinta.\n",
    "    \n",
    "    Contexto: {context}\n",
    "    \n",
    "    Pergunta: {question}\n",
    "    \n",
    "    Resposta:\n",
    "    \n",
    "    \"\"\"\n",
    ")"
   ]
  },
  {
   "cell_type": "code",
   "execution_count": 12,
   "metadata": {},
   "outputs": [],
   "source": [
    "from langchain.chains.retrieval_qa.base import RetrievalQA\n",
    "\n",
    "chat_chain = RetrievalQA.from_chain_type(\n",
    "    llm=chat,\n",
    "    retriever=vectordb.as_retriever(search_type='mmr'),\n",
    "    chain_type_kwargs={\"prompt\": chain_prompt},\n",
    "    return_source_documents=True,\n",
    "    \n",
    "    )\n",
    "\n"
   ]
  },
  {
   "cell_type": "code",
   "execution_count": 13,
   "metadata": {},
   "outputs": [
    {
     "data": {
      "text/plain": [
       "{'query': 'Oque é Hugging Face e como faço para usar?',\n",
       " 'result': 'Hugging Face é uma plataforma de IA aberta. Para usar, é necessário criar uma conta e autenticar com um token de acesso.',\n",
       " 'source_documents': [Document(metadata={'doc_id': 1, 'page': 1, 'source': 'Explorando o Universo das IAs com Hugging Face.pdf'}, page_content='Explorando o Universo das IAs com Hugging Face\\nConteúdo\\n01. O que é Hugging Face? 5\\nAfinal, o que é Hugging Face? . . . . . . . . . . . . . . . . . . . . . . . . . . . . . . . . . . 5\\nÉ tudo aberto mesmo? . . . . . . . . . . . . . . . . . . . . . . . . . . . . . . . . . . . 6\\nComo usaremos o Hugging Face? . . . . . . . . . . . . . . . . . . . . . . . . . . . . . . . . 6\\n02. A plataforma Hugging Face 7\\nModelos . . . . . . . . . . . . . . . . . . . . . . . . . . . . . . . . . . . . . . . . . . . . . . 7\\nPágina de um modelo . . . . . . . . . . . . . . . . . . . . . . . . . . . . . . . . . . . 8\\nDatasets . . . . . . . . . . . . . . . . . . . . . . . . . . . . . . . . . . . . . . . . . . . . . . 10\\nSpaces . . . . . . . . . . . . . . . . . . . . . . . . . . . . . . . . . . . . . . . . . . . . . . . 10\\n03. Testando nossa primeira IA em tempo recorde 14\\nNossa primeira IA . . . . . . . . . . . . . . . . . . . . . . . . . . . . . . . . . . . . . . . . . 14'),\n",
       "  Document(metadata={'doc_id': 139, 'page': 71, 'source': 'Explorando o Universo das IAs com Hugging Face.pdf'}, page_content='Explorando o Universo das IAs com Hugging Face\\n16. Conhecendo a comunidade do Hugging Face\\nComo já falamos anteriormente, o Hugging Face tem o tamanho que tem principalmente por causa de\\nsua comunidade. Vamos explorar alguns pontos relacionados a ela nesta aula.\\nPágina inicial\\nQuando você abrir a página inicial do Hugging Face enquanto está logado, verá diversas opções\\nrelacionadas à comunidade. Você receberá sugestões de perfis ou organizações para seguir, e pode\\nacompanhar os “posts” (atualizações) de cada perfil.\\nFigure 25: Página inicial do Hugging Face quando você está logado.\\nOpções de comunidade\\nNo menu à direita, é possível selecionar diversas opções de comunidade, como artigos de blog, páginas\\nde cursos do próprio Hugging Face, e acessos ao servidor de Discord, ao Forum e ao GitHub oficial.\\nAsimov Academy 71'),\n",
       "  Document(metadata={'doc_id': 88, 'page': 44, 'source': 'Explorando o Universo das IAs com Hugging Face.pdf'}, page_content='Explorando o Universo das IAs com Hugging Face\\nAutenticando com o token do Hugging Face\\nPara usar modelos restritos, vamos precisar criar uma conta no Hugging Face e pedir por autorização\\nde uso do modelo. Em seguida, precisamos criar um token de acesso (que não tem nada a ver com os\\ntokens dos tokenizers), para que nosso código entenda qual usuário está tentando usar o modelo\\ne nos dê acesso a ele.\\nCriando a conta\\nClique no botão de Sign up no canto superior direito e siga os passos para criar sua conta. É um\\nprocesso padrão como em qualquer outra plataforma.\\nAsimov Academy 44'),\n",
       "  Document(metadata={'doc_id': 159, 'page': 88, 'source': 'Explorando o Universo das IAs com Hugging Face.pdf'}, page_content='Face.\\nÉ claro que o Hugging Face não acaba aqui. Não tivemos tempo de explorar boa parte das tarefas que\\nexistem no Hugging Face. Dito isso, agora sabemoscomo fazer este processo: conseguimos procurar por\\numa tarefa nova, encontrar o código necessário para baixá-lo (seja pela bibliotecatransformers\\nou alguma outra), avaliar se conseguiremos rodar o modelo localmente, e entender como passar\\nargumentos e obter resultados a partir dele.\\nCom isso, você está apto para combinar funcionalidades de diversos modelos do Hugging Face com\\nsuas aplicações. Não é preciso utilizar o Hugging Face para fazer tudo em uma aplicação: você pode\\napenas pegar um ou alguns modelos específicos que sirvam para alguma tarefa, e combiná-los com\\nalgum outro script ou programa. Ou então combinar as IAs do Hugging Face com outras IAs mais\\n“famosas” , como o ChatGPT , e construir assim um sistema robusto com diversas IAs para uma variedade\\nde tarefas. O céu é o limite!\\nAsimov Academy 88')]}"
      ]
     },
     "execution_count": 13,
     "metadata": {},
     "output_type": "execute_result"
    }
   ],
   "source": [
    "pergunta = \"Oque é Hugging Face e como faço para usar?\"\n",
    "\n",
    "chat_chain.invoke({\"query\": pergunta})"
   ]
  },
  {
   "cell_type": "markdown",
   "metadata": {},
   "source": [
    "### Stuff"
   ]
  },
  {
   "cell_type": "code",
   "execution_count": 14,
   "metadata": {},
   "outputs": [
    {
     "name": "stdout",
     "output_type": "stream",
     "text": [
      "Hugging Face é uma plataforma que oferece uma variedade de modelos de inteligência artificial pré-treinados, datasets e espaços para colaboração na área de IA. Para usar o Hugging Face, você precisa criar uma conta na plataforma, seguir os passos de autenticação e, se necessário, solicitar autorização de uso de modelos restritos. Depois de criar sua conta, você pode explorar os modelos disponíveis, utilizar códigos para baixar e executar os modelos localmente, passar argumentos e obter resultados. A plataforma oferece a possibilidade de combinar diferentes modelos do Hugging Face em suas aplicações, assim como integrá-los com outras ferramentas de IA mais conhecidas.\n"
     ]
    }
   ],
   "source": [
    "chat_chain = RetrievalQA.from_chain_type(\n",
    "    llm=chat,\n",
    "    retriever=vectordb.as_retriever(search_type='mmr'),\n",
    "    chain_type='stuff',\n",
    "    \n",
    "    )\n",
    "\n",
    "pergunta = \"Oque é Hugging Face e como faço para usar?\"\n",
    "\n",
    "resposta = chat_chain.invoke({\"query\": pergunta})\n",
    "print(resposta[\"result\"])\n"
   ]
  },
  {
   "cell_type": "markdown",
   "metadata": {},
   "source": [
    "### Map Reduce"
   ]
  },
  {
   "cell_type": "code",
   "execution_count": 15,
   "metadata": {},
   "outputs": [
    {
     "name": "stdout",
     "output_type": "stream",
     "text": [
      "O Hugging Face é uma plataforma de inteligência artificial que oferece uma variedade de recursos, como modelos de IA pré-treinados, ferramentas de treinamento de modelos personalizados e uma comunidade ativa de desenvolvedores e entusiastas de IA. Para usar o Hugging Face, você pode acessar o site oficial da plataforma em huggingface.co, criar uma conta, explorar e escolher os modelos disponíveis que melhor se adequam ao seu projeto. Além disso, você pode participar da comunidade, seguir perfis e organizações, acessar recursos como artigos de blog, cursos, Discord, fórum e GitHub oficial.\n"
     ]
    }
   ],
   "source": [
    "chat_chain = RetrievalQA.from_chain_type(\n",
    "    llm=chat,\n",
    "    retriever=vectordb.as_retriever(search_type='mmr'),\n",
    "    chain_type='map_reduce',\n",
    "    \n",
    "    )\n",
    "\n",
    "pergunta = \"Oque é Hugging Face e como faço para usar?\"\n",
    "\n",
    "resposta = chat_chain.invoke({\"query\": pergunta})\n",
    "print(resposta[\"result\"])"
   ]
  },
  {
   "cell_type": "markdown",
   "metadata": {},
   "source": [
    "### Refine"
   ]
  },
  {
   "cell_type": "code",
   "execution_count": 16,
   "metadata": {},
   "outputs": [
    {
     "name": "stdout",
     "output_type": "stream",
     "text": [
      "Hugging Face é uma plataforma que fornece acesso a modelos de Inteligência Artificial (IA), conjuntos de dados e outras ferramentas relacionadas à IA, com uma forte ênfase na comunidade. Para usar modelos restritos no Hugging Face, é necessário criar uma conta na plataforma e solicitar autorização para acessar o modelo desejado. Além disso, é preciso gerar um token de acesso para identificar o usuário que está tentando usar o modelo e conceder acesso a ele. \n",
      "\n",
      "O Hugging Face oferece uma experiência colaborativa e interativa para explorar o universo das IA e interagir com uma comunidade ativa de desenvolvedores e entusiastas da inteligência artificial. Ao utilizar o Hugging Face, os usuários podem combinar funcionalidades de diversos modelos para suas aplicações, integrando-os com outros scripts ou programas. Isso permite criar sistemas robustos com diversas IAs para uma variedade de tarefas, ampliando as possibilidades de uso da plataforma.\n"
     ]
    }
   ],
   "source": [
    "chat_chain = RetrievalQA.from_chain_type(\n",
    "    llm=chat,\n",
    "    retriever=vectordb.as_retriever(search_type='mmr'),\n",
    "    chain_type='refine',\n",
    "    \n",
    "    )\n",
    "\n",
    "pergunta = \"Oque é Hugging Face e como faço para usar?\"\n",
    "\n",
    "resposta = chat_chain.invoke({\"query\": pergunta})\n",
    "print(resposta[\"result\"])"
   ]
  }
 ],
 "metadata": {
  "kernelspec": {
   "display_name": "venv",
   "language": "python",
   "name": "python3"
  },
  "language_info": {
   "codemirror_mode": {
    "name": "ipython",
    "version": 3
   },
   "file_extension": ".py",
   "mimetype": "text/x-python",
   "name": "python",
   "nbconvert_exporter": "python",
   "pygments_lexer": "ipython3",
   "version": "3.12.3"
  }
 },
 "nbformat": 4,
 "nbformat_minor": 2
}
