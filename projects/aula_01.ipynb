{
 "cells": [
  {
   "cell_type": "code",
   "execution_count": null,
   "metadata": {},
   "outputs": [],
   "source": [
    "from langchain_openai import ChatOpenAI\n",
    "from langchain_core.messages import HumanMessage, AIMessage\n",
    "\n",
    "chat = ChatOpenAI()\n",
    "\n",
    "mensagem = [\n",
    "    HumanMessage(content=\"Olá, como você está?\"),\n",
    "    AIMessage(content=\"Estou bem, obrigado por perguntar!\"),\n",
    "    HumanMessage(content=\"Que horas são?\"),\n",
    "    AIMessage(content=\"São 10 horas e 30 minutos.\"),\n",
    "    HumanMessage(content=\"Obrigado!\")\n",
    "] \n",
    "\n",
    "chat.invoke(mensagem)\n"
   ]
  },
  {
   "cell_type": "code",
   "execution_count": null,
   "metadata": {},
   "outputs": [],
   "source": [
    "from langchain_community.chat_models.huggingface import ChatHuggingFace\n",
    "from langchain_community.llms.huggingface_endpoint import HuggingFaceEndpoint\n",
    "from langchain_core.messages import HumanMessage, AIMessage\n",
    "\n",
    "modelo = 'simplescaling/s1-32B'\n",
    "\n",
    "llm = HuggingFaceEndpoint(repo_id=modelo)\n",
    "chat = ChatHuggingFace(llm=llm)"
   ]
  },
  {
   "cell_type": "code",
   "execution_count": null,
   "metadata": {},
   "outputs": [],
   "source": [
    "mensagem = [\n",
    "    HumanMessage(content=\"Olá, como você está?\"),\n",
    "    AIMessage(content=\"Estou bem, obrigado por perguntar!\"),\n",
    "    HumanMessage(content=\"Que horas são?\"),\n",
    "    AIMessage(content=\"São 10 horas e 30 minutos.\"),\n",
    "    HumanMessage(content=\"Obrigado!\")\n",
    "] \n",
    "\n",
    "chat.invoke(mensagem)"
   ]
  }
 ],
 "metadata": {
  "kernelspec": {
   "display_name": "venv",
   "language": "python",
   "name": "python3"
  },
  "language_info": {
   "codemirror_mode": {
    "name": "ipython",
    "version": 3
   },
   "file_extension": ".py",
   "mimetype": "text/x-python",
   "name": "python",
   "nbconvert_exporter": "python",
   "pygments_lexer": "ipython3",
   "version": "3.12.3"
  }
 },
 "nbformat": 4,
 "nbformat_minor": 2
}
