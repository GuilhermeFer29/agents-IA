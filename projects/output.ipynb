{
 "cells": [
  {
   "cell_type": "code",
   "execution_count": 8,
   "metadata": {},
   "outputs": [],
   "source": [
    "review_cliente = \"\"\"Este soprador de folhas é bastante incrível. Ele tem \n",
    "quatro configurações: sopro de vela, brisa suave, cidade ventosa \n",
    "e tornado. Chegou em dois dias, bem a tempo para o presente de \n",
    "aniversário da minha esposa. Acho que minha esposa gostou tanto \n",
    "que ficou sem palavras. Até agora, fui o único a usá-lo, e tenho \n",
    "usado em todas as manhãs alternadas para limpar as folhas do \n",
    "nosso gramado. É um pouco mais caro do que os outros sopradores \n",
    "de folhas disponíveis no mercado, mas acho que vale a pena pelas \n",
    "características extras.\"\"\""
   ]
  },
  {
   "cell_type": "code",
   "execution_count": null,
   "metadata": {},
   "outputs": [],
   "source": [
    "from langchain.output_parsers import ResponseSchema\n",
    "from langchain.output_parsers import StructuredOutputParser\n",
    "\n",
    "schema_presente = ResponseSchema(\n",
    "    name=\"presente\", \n",
    "    type=\"bool\",\n",
    "    description=\"O  item foi comprado para alguem ? True caso verdadeiro e False caso falso ou não tenha a informação \"\n",
    "    )\n",
    "\n",
    "schema_entrega = ResponseSchema(\n",
    "    name=\"dias_entrega\",\n",
    "    type=\"int\",\n",
    "    description=\" Quantos dias para a entrega chegar ?  se a resposta não for encontrada, retorne -1\"\n",
    "    )\n",
    "\n",
    "schema_valor = ResponseSchema(\n",
    "    name=\"percepcao_de_valor\",\n",
    "    type=\"list\",\n",
    "    description=\" Extrai qualquer frase sobre o valor ou preço. Retorne como uma lista de Pyton.\"\n",
    "    )\n",
    "\n",
    "response_schema = [\n",
    "    schema_presente,\n",
    "    schema_entrega,\n",
    "    schema_valor\n",
    "] \n",
    "\n",
    "output_parser = StructuredOutputParser.from_response_schemas(response_schema)\n",
    "\n",
    "schema_formatado = output_parser.get_format_instructions()\n",
    "\n",
    "print(schema_formatado)"
   ]
  },
  {
   "cell_type": "code",
   "execution_count": null,
   "metadata": {},
   "outputs": [],
   "source": [
    "from langchain.prompts import ChatPromptTemplate\n",
    "\n",
    "review_template = ChatPromptTemplate.from_template(\"\"\"\n",
    "Para o texto a seguir, extraia as seguintes informaçoes:\n",
    "presente, dias_entrega, percepcao_de_valor.\n",
    "\n",
    "Texto:{review}\n",
    "\n",
    "{schema}\n",
    "\"\"\", partial_variables={\"schema\": schema_formatado})\n",
    "\n",
    "print(review_template.format_messages(review=review_cliente))"
   ]
  },
  {
   "cell_type": "code",
   "execution_count": 14,
   "metadata": {},
   "outputs": [
    {
     "name": "stdout",
     "output_type": "stream",
     "text": [
      "```json\n",
      "{\n",
      "\t\"presente\": true,\n",
      "\t\"dias_entrega\": 2,\n",
      "\t\"percepcao_de_valor\": [\"É um pouco mais caro do que os outros sopradores de folhas disponíveis no mercado, mas acho que vale a pena pelas características extras.\"]\n",
      "}\n",
      "```\n"
     ]
    }
   ],
   "source": [
    "from langchain_openai.chat_models import ChatOpenAI\n",
    "\n",
    "chat = ChatOpenAI()\n",
    "\n",
    "resposta = chat.invoke(review_template.format_messages(review = review_cliente))\n",
    "\n",
    "print(resposta.content)"
   ]
  },
  {
   "cell_type": "code",
   "execution_count": 18,
   "metadata": {},
   "outputs": [
    {
     "name": "stdout",
     "output_type": "stream",
     "text": [
      "True\n",
      "2\n",
      "['É um pouco mais caro do que os outros sopradores de folhas disponíveis no mercado, mas acho que vale a pena pelas características extras.']\n"
     ]
    }
   ],
   "source": [
    "respota_json = output_parser.parse(resposta.content)\n",
    "\n",
    "print(respota_json['presente'])\n",
    "print(respota_json['dias_entrega'])\n",
    "print(respota_json['percepcao_de_valor'])"
   ]
  }
 ],
 "metadata": {
  "kernelspec": {
   "display_name": "venv",
   "language": "python",
   "name": "python3"
  },
  "language_info": {
   "codemirror_mode": {
    "name": "ipython",
    "version": 3
   },
   "file_extension": ".py",
   "mimetype": "text/x-python",
   "name": "python",
   "nbconvert_exporter": "python",
   "pygments_lexer": "ipython3",
   "version": "3.12.3"
  }
 },
 "nbformat": 4,
 "nbformat_minor": 2
}
