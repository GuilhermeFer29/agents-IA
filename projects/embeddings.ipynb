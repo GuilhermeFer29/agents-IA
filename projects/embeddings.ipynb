{
 "cells": [
  {
   "cell_type": "markdown",
   "metadata": {},
   "source": [
    "Embeddings com openAI   "
   ]
  },
  {
   "cell_type": "code",
   "execution_count": 7,
   "metadata": {},
   "outputs": [],
   "source": [
    "from langchain_openai import OpenAIEmbeddings\n",
    "import numpy as np\n",
    "\n",
    "embedding_model = OpenAIEmbeddings()"
   ]
  },
  {
   "cell_type": "code",
   "execution_count": 4,
   "metadata": {},
   "outputs": [],
   "source": [
    "embeddings = embedding_model.embed_documents([\n",
    "    \"Eu gosto de estudar IA\",\n",
    "    \"Eu gosto de estudar Machine Learning\",\n",
    "    \"Eu gosto de estudar Deep Learning\",\n",
    "    \"Eu gosto de estudar Python\"\n",
    "])"
   ]
  },
  {
   "cell_type": "code",
   "execution_count": 9,
   "metadata": {},
   "outputs": [
    {
     "name": "stdout",
     "output_type": "stream",
     "text": [
      "1.0 * 0.93 * 0.93 * 0.91 * \n",
      "0.93 * 1.0 * 0.97 * 0.93 * \n",
      "0.93 * 0.97 * 1.0 * 0.93 * \n",
      "0.91 * 0.93 * 0.93 * 1.0 * \n"
     ]
    }
   ],
   "source": [
    "for i in range(len(embeddings)):\n",
    "    for j in range(len(embeddings)):\n",
    "        print(round((np.dot(embeddings[i], embeddings[j])), 2), end=\" * \")\n",
    "    print()    "
   ]
  }
 ],
 "metadata": {
  "kernelspec": {
   "display_name": "venv",
   "language": "python",
   "name": "python3"
  },
  "language_info": {
   "codemirror_mode": {
    "name": "ipython",
    "version": 3
   },
   "file_extension": ".py",
   "mimetype": "text/x-python",
   "name": "python",
   "nbconvert_exporter": "python",
   "pygments_lexer": "ipython3",
   "version": "3.12.3"
  }
 },
 "nbformat": 4,
 "nbformat_minor": 2
}
