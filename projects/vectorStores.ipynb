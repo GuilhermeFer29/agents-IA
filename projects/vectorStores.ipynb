{
 "cells": [
  {
   "cell_type": "code",
   "execution_count": null,
   "metadata": {},
   "outputs": [],
   "source": [
    "from langchain_community.document_loaders.pdf import PyPDFLoader\n",
    "from langchain_text_splitters import RecursiveCharacterTextSplitter\n",
    "caminho = '../arquivos/Explorando o Universo das IAs com Hugging Face.pdf'\n",
    "\n",
    "loader = PyPDFLoader(caminho)\n",
    "paginas = loader.load()\n",
    "\n",
    "chunk_size = 500\n",
    "chunk_overlap = 50\n",
    "\n",
    "recur_split= RecursiveCharacterTextSplitter(\n",
    "    chunk_size=chunk_size, \n",
    "    chunk_overlap=chunk_overlap,\n",
    "    separators=['.',' ', ''] #separadores de texto TextSplitter utiliza varias caracteres para dividir .\n",
    "    \n",
    "    )\n",
    "\n",
    "documents = recur_split.split_documents(paginas)\n",
    "len(documents)"
   ]
  },
  {
   "cell_type": "code",
   "execution_count": 18,
   "metadata": {},
   "outputs": [],
   "source": [
    "__import__('pysqlite3')\n",
    "import sys\n",
    "sys.modules['sqlite3'] = sys.modules.pop('pysqlite3')"
   ]
  },
  {
   "cell_type": "code",
   "execution_count": 8,
   "metadata": {},
   "outputs": [],
   "source": [
    "from langchain_openai import OpenAIEmbeddings\n",
    "\n",
    "\n",
    "embedding_model = OpenAIEmbeddings()"
   ]
  },
  {
   "cell_type": "code",
   "execution_count": 9,
   "metadata": {},
   "outputs": [],
   "source": [
    "from langchain_chroma import Chroma\n",
    "\n",
    "diretorio = '../arquivos/chroma_vector_store'\n",
    "\n",
    "vector_store = Chroma.from_documents(\n",
    "    documents = documents,\n",
    "    embedding=embedding_model,\n",
    "    persist_directory=diretorio\n",
    ")"
   ]
  },
  {
   "cell_type": "code",
   "execution_count": null,
   "metadata": {},
   "outputs": [],
   "source": [
    "diretorio = '../arquivos/chroma_vector_store'\n",
    "\n",
    "vector_store = Chroma(\n",
    "    \n",
    "    embedding_function=embedding_model,\n",
    "    persist_directory=diretorio\n",
    ")"
   ]
  },
  {
   "cell_type": "code",
   "execution_count": null,
   "metadata": {},
   "outputs": [],
   "source": [
    "pergunta =\"O que é o Hugging Face?\"\n",
    "\n",
    "docs = vector_store.similarity_search(pergunta)\n",
    "len(docs)"
   ]
  },
  {
   "cell_type": "code",
   "execution_count": null,
   "metadata": {},
   "outputs": [],
   "source": [
    "for doc in docs:\n",
    "    print(doc.page_content)\n",
    "    print(f'============= {doc.metadata}\\n')"
   ]
  },
  {
   "cell_type": "code",
   "execution_count": null,
   "metadata": {},
   "outputs": [],
   "source": [
    "from langchain_community.document_loaders.pdf import PyPDFLoader\n",
    "from langchain_text_splitters import RecursiveCharacterTextSplitter\n",
    "caminho = '../arquivos/Explorando o Universo das IAs com Hugging Face.pdf'\n",
    "\n",
    "loader = PyPDFLoader(caminho)\n",
    "paginas = loader.load()\n",
    "\n",
    "chunk_size = 500\n",
    "chunk_overlap = 50\n",
    "\n",
    "recur_split= RecursiveCharacterTextSplitter(\n",
    "    chunk_size=chunk_size, \n",
    "    chunk_overlap=chunk_overlap,\n",
    "    separators=['.',' ', ''] #separadores de texto TextSplitter utiliza varias caracteres para dividir .\n",
    "    \n",
    "    )\n",
    "\n",
    "documents = recur_split.split_documents(paginas)\n",
    "len(documents)"
   ]
  },
  {
   "cell_type": "code",
   "execution_count": 19,
   "metadata": {},
   "outputs": [],
   "source": [
    "from langchain_openai import OpenAIEmbeddings\n",
    "\n",
    "\n",
    "embedding_model = OpenAIEmbeddings()"
   ]
  },
  {
   "cell_type": "code",
   "execution_count": null,
   "metadata": {},
   "outputs": [],
   "source": [
    "from langchain_community.vectorstores.faiss import FAISS\n",
    "\n",
    "vectostore = FAISS.from_documents(\n",
    "    documents = documents,\n",
    "    embedding=embedding_model\n",
    ")\n",
    "\n",
    "pergunta =\"O que é o Hugging Face?\"\n",
    "\n",
    "docs = vector_store.similarity_search(pergunta)\n",
    "len(docs)"
   ]
  },
  {
   "cell_type": "code",
   "execution_count": null,
   "metadata": {},
   "outputs": [],
   "source": [
    "for doc in docs:\n",
    "    print(doc.page_content)\n",
    "    print(f'============= {doc.metadata}\\n')"
   ]
  },
  {
   "cell_type": "code",
   "execution_count": 23,
   "metadata": {},
   "outputs": [],
   "source": [
    "vectostore.save_local(\"../arquivos/faiss_bd\")"
   ]
  },
  {
   "cell_type": "code",
   "execution_count": 24,
   "metadata": {},
   "outputs": [],
   "source": [
    "from langchain_community.vectorstores.faiss import FAISS\n",
    "vectostore = FAISS.load_local(\n",
    "    \"../arquivos/faiss_bd\", \n",
    "    embeddings=embedding_model,\n",
    "    allow_dangerous_deserialization=True,\n",
    "    )"
   ]
  }
 ],
 "metadata": {
  "kernelspec": {
   "display_name": "venv",
   "language": "python",
   "name": "python3"
  },
  "language_info": {
   "codemirror_mode": {
    "name": "ipython",
    "version": 3
   },
   "file_extension": ".py",
   "mimetype": "text/x-python",
   "name": "python",
   "nbconvert_exporter": "python",
   "pygments_lexer": "ipython3",
   "version": "3.12.3"
  }
 },
 "nbformat": 4,
 "nbformat_minor": 2
}
