{
 "cells": [
  {
   "cell_type": "code",
   "execution_count": 1,
   "metadata": {},
   "outputs": [],
   "source": [
    "from langchain_community.document_loaders.pdf import PyPDFLoader\n",
    "from langchain_text_splitters import RecursiveCharacterTextSplitter"
   ]
  },
  {
   "cell_type": "code",
   "execution_count": 4,
   "metadata": {},
   "outputs": [],
   "source": [
    "caminhos =[\n",
    "    \"../arquivos/Explorando o Universo das IAs com Hugging Face.pdf\",\n",
    "    \"../arquivos/Apostila LangChain.pdf\",\n",
    "    \"../arquivos/Explorando a API da OpenAI.pdf\",\n",
    "    \"../arquivos/Explorando a API da OpenAI.pdf\"\n",
    "]\n",
    "\n",
    "paginas = []\n",
    "\n",
    "for caminho in caminhos:\n",
    "    loader = PyPDFLoader(caminho)\n",
    "    paginas.extend(loader.load())\n",
    "    \n",
    "recur_split= RecursiveCharacterTextSplitter(\n",
    "    chunk_size=500,\n",
    "    chunk_overlap=50,\n",
    "    separators=[\"\\n\\n\", \"\\n\", \" \", \"\"]\n",
    ")\n",
    "\n",
    "documents = recur_split.split_documents(paginas)"
   ]
  },
  {
   "cell_type": "code",
   "execution_count": 5,
   "metadata": {},
   "outputs": [],
   "source": [
    "for i, doc in enumerate(documents):\n",
    "    doc.metadata[\"source\"] = doc.metadata[\"source\"].replace(\"../arquivos/\", \"\")\n",
    "    doc.metadata[\"doc_id\"] = i"
   ]
  },
  {
   "cell_type": "code",
   "execution_count": 6,
   "metadata": {},
   "outputs": [
    {
     "data": {
      "text/plain": [
       "{'source': 'Explorando o Universo das IAs com Hugging Face.pdf',\n",
       " 'page': 0,\n",
       " 'doc_id': 0}"
      ]
     },
     "execution_count": 6,
     "metadata": {},
     "output_type": "execute_result"
    }
   ],
   "source": [
    "documents[0].metadata"
   ]
  },
  {
   "cell_type": "code",
   "execution_count": 7,
   "metadata": {},
   "outputs": [],
   "source": [
    "__import__('pysqlite3')\n",
    "import sys\n",
    "sys.modules['sqlite3'] = sys.modules.pop('pysqlite3')\n",
    "\n",
    "from langchain_openai import OpenAIEmbeddings\n",
    "from langchain_chroma import Chroma\n",
    "\n",
    "embedding_model = OpenAIEmbeddings()"
   ]
  },
  {
   "cell_type": "code",
   "execution_count": 9,
   "metadata": {},
   "outputs": [],
   "source": [
    "diretorio = '../arquivos/chroma_retrieval_bd'\n",
    "\n",
    "vectordb = Chroma.from_documents(\n",
    "    documents = documents,\n",
    "    embedding=embedding_model,\n",
    "    persist_directory=diretorio\n",
    ")"
   ]
  },
  {
   "cell_type": "code",
   "execution_count": 11,
   "metadata": {},
   "outputs": [
    {
     "name": "stdout",
     "output_type": "stream",
     "text": [
      "Explorando a API da OpenAI\n",
      "01. Bem-vindos ao curso Explorando a API da OpenAI\n",
      "Olá e bem-vindos ao nosso curso “Explorando a API da OpenAI”! Estou super animado por ter vocês\n",
      "aqui e mal posso esperar para explorarmos juntos esse universo fascinante da programação e da\n",
      "inteligência artificial.\n",
      "Vocês já devem ter percebido que a IA está mudando o jogo em muitos campos, certo? É incrível como\n",
      "ela está transformando a maneira como lidamos com informações e realiza tarefas que antes pareciam\n",
      "======================{'doc_id': 558, 'page': 4, 'source': 'Explorando a API da OpenAI.pdf'} \n",
      "\n",
      "Explorando a API da OpenAI\n",
      "01. Bem-vindos ao curso Explorando a API da OpenAI\n",
      "Olá e bem-vindos ao nosso curso “Explorando a API da OpenAI”! Estou super animado por ter vocês\n",
      "aqui e mal posso esperar para explorarmos juntos esse universo fascinante da programação e da\n",
      "inteligência artificial.\n",
      "Vocês já devem ter percebido que a IA está mudando o jogo em muitos campos, certo? É incrível como\n",
      "ela está transformando a maneira como lidamos com informações e realiza tarefas que antes pareciam\n",
      "======================{'doc_id': 820, 'page': 4, 'source': 'Explorando a API da OpenAI.pdf'} \n",
      "\n",
      "Explorando a API da OpenAI\n",
      "01. Bem-vindos ao curso Explorando a API da OpenAI\n",
      "Olá e bem-vindos ao nosso curso “Explorando a API da OpenAI”! Estou super animado por ter vocês\n",
      "aqui e mal posso esperar para explorarmos juntos esse universo fascinante da programação e da\n",
      "inteligência artificial.\n",
      "Vocês já devem ter percebido que a IA está mudando o jogo em muitos campos, certo? É incrível como\n",
      "ela está transformando a maneira como lidamos com informações e realiza tarefas que antes pareciam\n",
      "======================{'doc_id': 558, 'page': 4, 'source': 'Explorando a API da OpenAI.pdf'} \n",
      "\n"
     ]
    }
   ],
   "source": [
    "pergunta = \"O que é o OpenAI?\"\n",
    "\n",
    "docs = vectordb.similarity_search(pergunta, k= 3)\n",
    "\n",
    "for doc in docs:\n",
    "    print(doc.page_content)\n",
    "    print(f\"======================{doc.metadata}\", \"\\n\")"
   ]
  }
 ],
 "metadata": {
  "kernelspec": {
   "display_name": "venv",
   "language": "python",
   "name": "python3"
  },
  "language_info": {
   "codemirror_mode": {
    "name": "ipython",
    "version": 3
   },
   "file_extension": ".py",
   "mimetype": "text/x-python",
   "name": "python",
   "nbconvert_exporter": "python",
   "pygments_lexer": "ipython3",
   "version": "3.12.3"
  }
 },
 "nbformat": 4,
 "nbformat_minor": 2
}
