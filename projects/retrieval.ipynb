{
 "cells": [
  {
   "cell_type": "code",
   "execution_count": 1,
   "metadata": {},
   "outputs": [],
   "source": [
    "from langchain_community.document_loaders.pdf import PyPDFLoader\n",
    "from langchain_text_splitters import RecursiveCharacterTextSplitter"
   ]
  },
  {
   "cell_type": "code",
   "execution_count": 2,
   "metadata": {},
   "outputs": [],
   "source": [
    "caminhos =[\n",
    "    \"../arquivos/Explorando o Universo das IAs com Hugging Face.pdf\",\n",
    "    \"../arquivos/Apostila LangChain.pdf\",\n",
    "    \"../arquivos/Explorando a API da OpenAI.pdf\",\n",
    "    \"../arquivos/Explorando a API da OpenAI.pdf\"\n",
    "]\n",
    "\n",
    "paginas = []\n",
    "\n",
    "for caminho in caminhos:\n",
    "    loader = PyPDFLoader(caminho)\n",
    "    paginas.extend(loader.load())\n",
    "    \n",
    "recur_split= RecursiveCharacterTextSplitter(\n",
    "    chunk_size=500,\n",
    "    chunk_overlap=50,\n",
    "    separators=[\"\\n\\n\", \"\\n\", \" \", \"\"]\n",
    ")\n",
    "\n",
    "documents = recur_split.split_documents(paginas)"
   ]
  },
  {
   "cell_type": "markdown",
   "metadata": {},
   "source": [
    "Enumerar todos os arquivos do diretório atual"
   ]
  },
  {
   "cell_type": "code",
   "execution_count": 4,
   "metadata": {},
   "outputs": [],
   "source": [
    "for i, doc in enumerate(documents):\n",
    "    doc.metadata[\"source\"] = doc.metadata[\"source\"].replace(\"../arquivos/\", \"\")\n",
    "    doc.metadata[\"doc_id\"] = i"
   ]
  },
  {
   "cell_type": "code",
   "execution_count": null,
   "metadata": {},
   "outputs": [],
   "source": [
    "documents[0].metadata"
   ]
  },
  {
   "cell_type": "code",
   "execution_count": 6,
   "metadata": {},
   "outputs": [],
   "source": [
    "__import__('pysqlite3')\n",
    "import sys\n",
    "sys.modules['sqlite3'] = sys.modules.pop('pysqlite3')\n",
    "\n",
    "from langchain_openai import OpenAIEmbeddings\n",
    "from langchain_chroma import Chroma\n",
    "\n",
    "embedding_model = OpenAIEmbeddings()"
   ]
  },
  {
   "cell_type": "code",
   "execution_count": 7,
   "metadata": {},
   "outputs": [],
   "source": [
    "diretorio = '../arquivos/chroma_retrieval_bd'\n",
    "\n",
    "vectordb = Chroma.from_documents(\n",
    "    documents = documents,\n",
    "    embedding=embedding_model,\n",
    "    persist_directory=diretorio\n",
    ")"
   ]
  },
  {
   "cell_type": "code",
   "execution_count": null,
   "metadata": {},
   "outputs": [],
   "source": [
    "pergunta = \"O que é o OpenAI?\"\n",
    "\n",
    "docs = vectordb.similarity_search(pergunta, k= 3)\n",
    "\n",
    "for doc in docs:\n",
    "    print(doc.page_content)\n",
    "    print(f\"======================{doc.metadata}\", \"\\n\")"
   ]
  },
  {
   "cell_type": "markdown",
   "metadata": {},
   "source": [
    "### MMR"
   ]
  },
  {
   "cell_type": "code",
   "execution_count": null,
   "metadata": {},
   "outputs": [],
   "source": [
    "pergunta = \"O que é o OpenAI?\"\n",
    "\n",
    "docs = vectordb.max_marginal_relevance_search(pergunta, k=3, fetch_k=10)\n",
    "\n",
    "for doc in docs:\n",
    "    print(doc.page_content)\n",
    "    print(f\"======================{doc.metadata}\\n \\n\")"
   ]
  },
  {
   "cell_type": "markdown",
   "metadata": {},
   "source": [
    "### Filtragem de dados"
   ]
  },
  {
   "cell_type": "code",
   "execution_count": null,
   "metadata": {},
   "outputs": [],
   "source": [
    "pergunta = \"O que a Apostila de Hugging Face fala sobre a OpenAI eo ChatGPT?\"\n",
    "\n",
    "docs = vectordb.similarity_search(\n",
    "    pergunta,\n",
    "    k=3,\n",
    "    filter= {\"source\": \"Explorando o Universo das IAs com Hugging Face.pdf\"}\n",
    "    )\n",
    "\n",
    "for doc in docs:\n",
    "    print(doc.page_content)\n",
    "    print(f\"======================{doc.metadata}\", \"\\n\")\n",
    "    print(\"\\n\")"
   ]
  },
  {
   "cell_type": "markdown",
   "metadata": {},
   "source": [
    "### LLM Aided Retrieval\n"
   ]
  },
  {
   "cell_type": "code",
   "execution_count": 26,
   "metadata": {},
   "outputs": [],
   "source": [
    "from langchain_openai.llms import OpenAI\n",
    "from langchain.retrievers.self_query.base import SelfQueryRetriever\n",
    "from langchain.chains.query_constructor.schema import AttributeInfo"
   ]
  },
  {
   "cell_type": "code",
   "execution_count": 31,
   "metadata": {},
   "outputs": [],
   "source": [
    "metadata_info =[\n",
    "    AttributeInfo(\n",
    "        name=\"source\",\n",
    "        description=\"Nome da apostila de onde o texto original foi retirado. O valor de : Explorando o Universo das IAs com Hugging Face.pdf ou Explorando a API da OpenAI.pdf\",\n",
    "        type=\"string\",\n",
    "    ),\n",
    "    AttributeInfo(\n",
    "        name=\"page\",\n",
    "        description=\"A página onde o texto original foi retirado. O valor de : 1 ou 2\",\n",
    "        type=\"integer\",\n",
    "    ),\n",
    "]"
   ]
  },
  {
   "cell_type": "code",
   "execution_count": 32,
   "metadata": {},
   "outputs": [],
   "source": [
    "document_description = \"Apostila de Cursos\"\n",
    "\n",
    "llm = OpenAI()\n",
    "retriever = SelfQueryRetriever.from_llm(\n",
    "    llm,\n",
    "    vectordb,\n",
    "    document_description,\n",
    "    metadata_info,\n",
    "    verbose=True\n",
    ")"
   ]
  },
  {
   "cell_type": "code",
   "execution_count": null,
   "metadata": {},
   "outputs": [],
   "source": [
    "pergunta = \"O que a Apostila de Hugging Face fala sobre a OpenAI eo ChatGPT?\"\n",
    "\n",
    "docs = retriever.get_relevant_documents(pergunta)\n",
    "\n",
    "for doc in docs:\n",
    "    print(doc.page_content)\n",
    "    print(f\"======================{doc.metadata}\", \"\\n\")\n",
    "    print(\"\\n\")"
   ]
  }
 ],
 "metadata": {
  "kernelspec": {
   "display_name": "venv",
   "language": "python",
   "name": "python3"
  },
  "language_info": {
   "codemirror_mode": {
    "name": "ipython",
    "version": 3
   },
   "file_extension": ".py",
   "mimetype": "text/x-python",
   "name": "python",
   "nbconvert_exporter": "python",
   "pygments_lexer": "ipython3",
   "version": "3.12.3"
  }
 },
 "nbformat": 4,
 "nbformat_minor": 2
}
