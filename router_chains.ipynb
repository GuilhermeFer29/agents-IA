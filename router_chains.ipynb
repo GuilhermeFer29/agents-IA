{
 "cells": [
  {
   "cell_type": "code",
   "execution_count": 17,
   "metadata": {},
   "outputs": [],
   "source": [
    "from langchain_openai import ChatOpenAI\n",
    "from langchain.prompts import ChatPromptTemplate, PromptTemplate\n",
    "from langchain.chains.llm import LLMChain\n",
    "\n",
    "\n",
    "from langchain.chains.router import MultiPromptChain\n",
    "from  langchain.chains.router.llm_router import LLMRouterChain, RouterOutputParser\n",
    "from langchain.chains.router.multi_prompt_prompt import MULTI_PROMPT_ROUTER_TEMPLATE\n",
    "\n"
   ]
  },
  {
   "cell_type": "code",
   "execution_count": 18,
   "metadata": {},
   "outputs": [],
   "source": [
    "fis_template = ChatPromptTemplate.from_template(\n",
    "    \"\"\" \n",
    "    Você é um Professor de fisica muito inteligente.\n",
    "    Você é otimo em responder perguntas sobre fisica concisa e facil de entender.\n",
    "    Quando você não sabe a resposta, você admiti que não sabe.\n",
    "    \n",
    "    Aqui está a pergunta: {input}\n",
    "    \n",
    "    \"\"\"\n",
    ")\n",
    "\n",
    "mat_template = ChatPromptTemplate.from_template(\n",
    "    \"\"\"\n",
    "    Você é um Professor de matematica muito inteligente.\n",
    "    Você é otimo em responder perguntas sobre matematica concisa e facil de entender.\n",
    "    Quando você não sabe a resposta, você admiti que não sabe.\n",
    "\n",
    "    Aqui está a pergunta: {input}\n",
    "\n",
    "    \"\"\"\n",
    ")\n",
    "\n",
    "hist_template = ChatPromptTemplate.from_template(\n",
    "    \"\"\"\n",
    "    Você é um Professor de historia muito inteligente.\n",
    "    Você é otimo em responder perguntas sobre historia concisa e facil de entender.\n",
    "    Quando você não sabe a resposta, você admiti que não sabe.\n",
    "    \n",
    "    Aqui está a pergunta: {input}\n",
    "    \"\"\"  \n",
    "    \n",
    "    )\n",
    "\n"
   ]
  },
  {
   "cell_type": "code",
   "execution_count": 19,
   "metadata": {},
   "outputs": [],
   "source": [
    "prompt_infos = [\n",
    "    {\n",
    "        \"name\": \"Fisica\",\n",
    "        \"description\": \"Ideal para responder perguntas sobre fisica\",\n",
    "        \"prompt\": fis_template,\n",
    "    },\n",
    "    {\n",
    "        \"name\": \"Matematica\",\n",
    "        \"description\": \"Ideal para responder perguntas sobre matematica\",\n",
    "        \"prompt\": mat_template,\n",
    "    },\n",
    "    {\n",
    "        \"name\": \"Historia\",\n",
    "        \"description\": \"Ideal para responder perguntas sobre historia\",\n",
    "        \"prompt\": hist_template,\n",
    "    },\n",
    "]"
   ]
  },
  {
   "cell_type": "code",
   "execution_count": 20,
   "metadata": {},
   "outputs": [],
   "source": [
    "chat = ChatOpenAI()"
   ]
  },
  {
   "cell_type": "code",
   "execution_count": 21,
   "metadata": {},
   "outputs": [],
   "source": [
    "chains_destino = {}\n",
    "\n",
    "for info in prompt_infos:\n",
    "    chain = LLMChain(llm=chat,  prompt=info[\"prompt\"], verbose=True)\n",
    "    chains_destino[info[\"name\"]] = chain    "
   ]
  },
  {
   "cell_type": "code",
   "execution_count": null,
   "metadata": {},
   "outputs": [],
   "source": [
    "destinos =[f\"{p[\"name\"]}: {p[\"description\"]} \" for p in prompt_infos]\n",
    "destinos_str = \"\\n\".join(destinos)\n",
    "print(destinos_str)"
   ]
  },
  {
   "cell_type": "code",
   "execution_count": null,
   "metadata": {},
   "outputs": [],
   "source": [
    "router_template = MULTI_PROMPT_ROUTER_TEMPLATE.format(\n",
    "    destinations = destinos_str\n",
    ")\n",
    "print(router_template)"
   ]
  },
  {
   "cell_type": "code",
   "execution_count": 24,
   "metadata": {},
   "outputs": [],
   "source": [
    "router_template = PromptTemplate(\n",
    "    template= router_template,\n",
    "    input_variables=[\"input\"],\n",
    "    output_parser=RouterOutputParser(),\n",
    ")\n",
    "\n",
    "router_chain = LLMRouterChain.from_llm(chat, router_template, verbose=True)"
   ]
  },
  {
   "cell_type": "code",
   "execution_count": null,
   "metadata": {},
   "outputs": [],
   "source": [
    "default_prompt = ChatPromptTemplate.from_template(\n",
    "    \"{input}\"\n",
    ")\n",
    "\n",
    "default_chain = LLMChain(llm=chat, prompt=default_prompt, verbose=True)\n",
    "\n",
    "chain = MultiPromptChain(\n",
    "    router_chain=router_chain,\n",
    "    destination_chains=chains_destino,\n",
    "    default_chain=default_chain,\n",
    "    verbose=True\n",
    ")"
   ]
  },
  {
   "cell_type": "code",
   "execution_count": null,
   "metadata": {},
   "outputs": [],
   "source": [
    "chain.invoke({\"input\": \"Quem descobriu o Brasil?\"})"
   ]
  },
  {
   "cell_type": "code",
   "execution_count": null,
   "metadata": {},
   "outputs": [],
   "source": [
    "\"\"\"\n",
    "Codigo para router de chains\n",
    "passando os parametros de entrada e saida\n",
    "\"\"\""
   ]
  }
 ],
 "metadata": {
  "kernelspec": {
   "display_name": "venv",
   "language": "python",
   "name": "python3"
  },
  "language_info": {
   "codemirror_mode": {
    "name": "ipython",
    "version": 3
   },
   "file_extension": ".py",
   "mimetype": "text/x-python",
   "name": "python",
   "nbconvert_exporter": "python",
   "pygments_lexer": "ipython3",
   "version": "3.12.3"
  }
 },
 "nbformat": 4,
 "nbformat_minor": 2
}
