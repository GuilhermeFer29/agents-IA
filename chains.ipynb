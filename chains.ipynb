{
 "cells": [
  {
   "cell_type": "code",
   "execution_count": 2,
   "metadata": {},
   "outputs": [
    {
     "name": "stdout",
     "output_type": "stream",
     "text": [
      "\n",
      "\n",
      "\u001b[1m> Entering new ConversationChain chain...\u001b[0m\n",
      "Prompt after formatting:\n",
      "\u001b[32;1m\u001b[1;3mThe following is a friendly conversation between a human and an AI. The AI is talkative and provides lots of specific details from its context. If the AI does not know the answer to a question, it truthfully says it does not know.\n",
      "\n",
      "Current conversation:\n",
      "\n",
      "Human: Oi\n",
      "AI:\u001b[0m\n",
      "\n",
      "\u001b[1m> Finished chain.\u001b[0m\n"
     ]
    },
    {
     "data": {
      "text/plain": [
       "'Hello! How can I assist you today?'"
      ]
     },
     "execution_count": 2,
     "metadata": {},
     "output_type": "execute_result"
    }
   ],
   "source": [
    "from langchain_openai.chat_models import ChatOpenAI\n",
    "from langchain.memory import ConversationBufferMemory\n",
    "from langchain.chains.conversation.base import ConversationChain\n",
    "\n",
    "chat = ChatOpenAI(model=\"gpt-3.5-turbo-0125\")\n",
    "memory = ConversationBufferMemory()\n",
    "chain = ConversationChain(\n",
    "    llm=chat, \n",
    "    memory=memory,\n",
    "    verbose=True\n",
    "    )\n",
    "chain.predict(input=\"Oi\")"
   ]
  },
  {
   "cell_type": "code",
   "execution_count": 3,
   "metadata": {},
   "outputs": [
    {
     "name": "stdout",
     "output_type": "stream",
     "text": [
      "\n",
      "\n",
      "\u001b[1m> Entering new ConversationChain chain...\u001b[0m\n",
      "Prompt after formatting:\n",
      "\u001b[32;1m\u001b[1;3m\n",
      "    Essa é uma conversa entre um usuário e um agente de IA.\n",
      "    \n",
      "    Convesa atual :\n",
      "    \n",
      "    Human: Oi\n",
      "    AI:\n",
      "    \n",
      "    \u001b[0m\n",
      "\n",
      "\u001b[1m> Finished chain.\u001b[0m\n"
     ]
    },
    {
     "data": {
      "text/plain": [
       "'Olá! Como posso ajudar você hoje?'"
      ]
     },
     "execution_count": 3,
     "metadata": {},
     "output_type": "execute_result"
    }
   ],
   "source": [
    "from langchain.prompts import PromptTemplate\n",
    "\n",
    "prompt_template = PromptTemplate.from_template(\n",
    "    \"\"\"\n",
    "    Essa é uma conversa entre um usuário e um agente de IA.\n",
    "    \n",
    "    Convesa atual :\n",
    "    {history}\n",
    "    Human: {input}\n",
    "    AI:\n",
    "    \n",
    "    \"\"\"\n",
    ")\n",
    "\n",
    "chat = ChatOpenAI(model=\"gpt-3.5-turbo-0125\")\n",
    "memory = ConversationBufferMemory()\n",
    "chain = ConversationChain(\n",
    "    prompt=prompt_template,\n",
    "    llm=chat, \n",
    "    memory=memory,\n",
    "    verbose=True\n",
    "    )\n",
    "chain.predict(input=\"Oi\")"
   ]
  },
  {
   "cell_type": "code",
   "execution_count": 4,
   "metadata": {},
   "outputs": [],
   "source": [
    "from langchain_openai.chat_models import ChatOpenAI\n",
    "from langchain.memory import ConversationBufferMemory\n",
    "from langchain.chains.llm import LLMChain\n",
    "from langchain.prompts import PromptTemplate\n",
    "\n",
    "\n",
    "chat = ChatOpenAI(model=\"gpt-3.5-turbo-0125\")"
   ]
  },
  {
   "cell_type": "code",
   "execution_count": 5,
   "metadata": {},
   "outputs": [
    {
     "name": "stderr",
     "output_type": "stream",
     "text": [
      "/tmp/ipykernel_11984/3389574716.py:7: LangChainDeprecationWarning: The class `LLMChain` was deprecated in LangChain 0.1.17 and will be removed in 1.0. Use :meth:`~RunnableSequence, e.g., `prompt | llm`` instead.\n",
      "  chain = LLMChain(llm=chat, prompt=prompt)\n",
      "/tmp/ipykernel_11984/3389574716.py:11: LangChainDeprecationWarning: The method `Chain.run` was deprecated in langchain 0.1.0 and will be removed in 1.0. Use :meth:`~invoke` instead.\n",
      "  chain.run(produto)\n"
     ]
    },
    {
     "data": {
      "text/plain": [
       "'SofáCama Design'"
      ]
     },
     "execution_count": 5,
     "metadata": {},
     "output_type": "execute_result"
    }
   ],
   "source": [
    "prompt = PromptTemplate.from_template(\n",
    "    \"\"\"\n",
    "        Qual o melhor nome de uma empresa para uma empresa que desenvolve o produto: {produto}\n",
    "    \"\"\"\n",
    ")\n",
    "\n",
    "chain = LLMChain(llm=chat, prompt=prompt)\n",
    "\n",
    "produto = \"Sofas Bicamas\"\n",
    "\n",
    "chain.run(produto)"
   ]
  },
  {
   "cell_type": "code",
   "execution_count": 6,
   "metadata": {},
   "outputs": [],
   "source": [
    "from langchain.chains import SimpleSequentialChain\n",
    "\n",
    "chat = ChatOpenAI(model=\"gpt-3.5-turbo\")"
   ]
  },
  {
   "cell_type": "code",
   "execution_count": 7,
   "metadata": {},
   "outputs": [],
   "source": [
    "prompt = PromptTemplate.from_template(\n",
    "    \"\"\"\n",
    "        Qual o melhor nome de uma empresa para uma empresa que desenvolve o produto: {produto}\n",
    "    \"\"\"\n",
    ")\n",
    "\n",
    "chain_nome = LLMChain(llm=chat, prompt=prompt)\n",
    "\n",
    "prompt_descricao = PromptTemplate.from_template(\n",
    "    \"\"\"\n",
    "    Dado a empresa com o seguinte nome: {nome_empresa}.\n",
    "    Dê uma descrição de até 50 palavras das atividades dessa empresa.\n",
    "    \"\"\"\n",
    "    )\n",
    "\n",
    "chain_descricao = LLMChain(llm=chat, prompt=prompt_descricao)"
   ]
  },
  {
   "cell_type": "code",
   "execution_count": 33,
   "metadata": {},
   "outputs": [
    {
     "name": "stdout",
     "output_type": "stream",
     "text": [
      "\n",
      "\n",
      "\u001b[1m> Entering new SimpleSequentialChain chain...\u001b[0m\n",
      "\u001b[36;1m\u001b[1;3m\"Pavé & Cone Trufados Chocolatados Artesanais\"\u001b[0m\n",
      "\u001b[33;1m\u001b[1;3mA empresa \"Pavé & Cone Trufados Chocolatados Artesanais\" produz e comercializa deliciosos pavês, cones e trufas de chocolate feitos de forma artesanal. Com ingredientes de alta qualidade e receitas exclusivas, oferece aos clientes uma experiência única e saborosa no mundo da confeitaria.\u001b[0m\n",
      "\n",
      "\u001b[1m> Finished chain.\u001b[0m\n"
     ]
    },
    {
     "data": {
      "text/plain": [
       "'A empresa \"Pavé & Cone Trufados Chocolatados Artesanais\" produz e comercializa deliciosos pavês, cones e trufas de chocolate feitos de forma artesanal. Com ingredientes de alta qualidade e receitas exclusivas, oferece aos clientes uma experiência única e saborosa no mundo da confeitaria.'"
      ]
     },
     "execution_count": 33,
     "metadata": {},
     "output_type": "execute_result"
    }
   ],
   "source": [
    "chain = SimpleSequentialChain(chains=[chain_nome, chain_descricao], verbose=True)\n",
    "\n",
    "produto = \"Confeitaria Artesanal com especialidade em pave e cones trufados blindados de chocolate\"\n",
    "\n",
    "chain.run(produto)"
   ]
  },
  {
   "cell_type": "code",
   "execution_count": 34,
   "metadata": {},
   "outputs": [],
   "source": [
    "from langchain.chains import SequentialChain\n",
    "\n",
    "chat = ChatOpenAI(model=\"gpt-3.5-turbo\")"
   ]
  },
  {
   "cell_type": "code",
   "execution_count": 39,
   "metadata": {},
   "outputs": [],
   "source": [
    "prompt = PromptTemplate.from_template(\n",
    "    \"\"\"\n",
    "        Qual o melhor nome de uma empresa para uma empresa que desenvolve o produto: {produto}\n",
    "    \"\"\"\n",
    ")\n",
    "\n",
    "chain_nome = LLMChain(llm=chat, prompt=prompt, output_key=\"nome_empresa\")\n",
    "\n",
    "prompt_descricao = PromptTemplate.from_template(\n",
    "    \"\"\"\n",
    "    Dado a empresa com o seguinte nome: {nome_empresa},\n",
    "    e que produz o seguinte produto: {produto}.\n",
    "    Dê uma descrição de até 50 palavras das atividades dessa empresa.\n",
    "    \"\"\"\n",
    "    )\n",
    "\n",
    "chain_descricao = LLMChain(llm=chat, prompt=prompt_descricao,output_key=\"descricao_empresa\")\n",
    "\n",
    "prompt_traducao = PromptTemplate.from_template(\n",
    "    \"\"\"\n",
    "Crie um nome em ingles para a empresa: {nome_empresa}\n",
    "que possui a seguinte descrição: {descricao_empresa}\n",
    "    \"\"\"\n",
    "    )\n",
    "\n",
    "chain_traducao = LLMChain(llm=chat, prompt=prompt_traducao,output_key=\"nome_ingles\")"
   ]
  },
  {
   "cell_type": "code",
   "execution_count": 49,
   "metadata": {},
   "outputs": [
    {
     "name": "stdout",
     "output_type": "stream",
     "text": [
      "\n",
      "\n",
      "\u001b[1m> Entering new SequentialChain chain...\u001b[0m\n",
      "\n",
      "\u001b[1m> Finished chain.\u001b[0m\n"
     ]
    },
    {
     "data": {
      "text/plain": [
       "{'produto': 'Confeitaria Especializada em pave , cones trufados e mais maravilhas ',\n",
       " 'nome_empresa': 'Delícias Pave & Trufas',\n",
       " 'descricao_empresa': 'A empresa Delícias Pave & Trufas é especializada na produção de deliciosos paves, cones trufados e outras maravilhas da confeitaria. Com um cuidadoso processo de fabricação, oferece produtos de alta qualidade e sabor inigualável para seus clientes desfrutarem de verdadeiras experiências gastronômicas.',\n",
       " 'nome_ingles': 'Sweet Cravings Pave & Truffles'}"
      ]
     },
     "execution_count": 49,
     "metadata": {},
     "output_type": "execute_result"
    }
   ],
   "source": [
    "chain = SequentialChain(\n",
    "    chains=[chain_nome, chain_descricao, chain_traducao],\n",
    "    input_variables=[\"produto\"],\n",
    "    output_variables=[\"nome_empresa\", \"descricao_empresa\", \"nome_ingles\"],\n",
    "    verbose=True\n",
    ")\n",
    "\n",
    "produto = \"Confeitaria Especializada em pave , cones trufados e mais maravilhas \"\n",
    "\n",
    "chain.invoke({\"produto\" : produto})"
   ]
  },
  {
   "cell_type": "code",
   "execution_count": null,
   "metadata": {},
   "outputs": [],
   "source": []
  }
 ],
 "metadata": {
  "kernelspec": {
   "display_name": "venv",
   "language": "python",
   "name": "python3"
  },
  "language_info": {
   "codemirror_mode": {
    "name": "ipython",
    "version": 3
   },
   "file_extension": ".py",
   "mimetype": "text/x-python",
   "name": "python",
   "nbconvert_exporter": "python",
   "pygments_lexer": "ipython3",
   "version": "3.12.3"
  }
 },
 "nbformat": 4,
 "nbformat_minor": 2
}
