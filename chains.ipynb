{
 "cells": [
  {
   "cell_type": "code",
   "execution_count": null,
   "metadata": {},
   "outputs": [],
   "source": [
    "from langchain_openai.chat_models import ChatOpenAI\n",
    "from langchain.memory import ConversationBufferMemory\n",
    "from langchain.chains.conversation.base import ConversationChain\n",
    "\n",
    "chat = ChatOpenAI(model=\"gpt-3.5-turbo-0125\")\n",
    "memory = ConversationBufferMemory()\n",
    "chain = ConversationChain(\n",
    "    llm=chat, \n",
    "    memory=memory,\n",
    "    verbose=True\n",
    "    )\n",
    "chain.predict(input=\"Oi\")"
   ]
  },
  {
   "cell_type": "code",
   "execution_count": null,
   "metadata": {},
   "outputs": [],
   "source": [
    "from langchain.prompts import PromptTemplate\n",
    "\n",
    "prompt_template = PromptTemplate.from_template(\n",
    "    \"\"\"\n",
    "    Essa é uma conversa entre um usuário e um agente de IA.\n",
    "    \n",
    "    Convesa atual :\n",
    "    {history}\n",
    "    Human: {input}\n",
    "    AI:\n",
    "    \n",
    "    \"\"\"\n",
    ")\n",
    "\n",
    "chat = ChatOpenAI(model=\"gpt-3.5-turbo-0125\")\n",
    "memory = ConversationBufferMemory()\n",
    "chain = ConversationChain(\n",
    "    prompt=prompt_template,\n",
    "    llm=chat, \n",
    "    memory=memory,\n",
    "    verbose=True\n",
    "    )\n",
    "chain.predict(input=\"Oi\")"
   ]
  },
  {
   "cell_type": "code",
   "execution_count": 4,
   "metadata": {},
   "outputs": [],
   "source": [
    "from langchain_openai.chat_models import ChatOpenAI\n",
    "from langchain.memory import ConversationBufferMemory\n",
    "from langchain.chains.llm import LLMChain\n",
    "from langchain.prompts import PromptTemplate\n",
    "\n",
    "\n",
    "chat = ChatOpenAI(model=\"gpt-3.5-turbo-0125\")"
   ]
  },
  {
   "cell_type": "code",
   "execution_count": null,
   "metadata": {},
   "outputs": [],
   "source": [
    "prompt = PromptTemplate.from_template(\n",
    "    \"\"\"\n",
    "        Qual o melhor nome de uma empresa para uma empresa que desenvolve o produto: {produto}\n",
    "    \"\"\"\n",
    ")\n",
    "\n",
    "chain = LLMChain(llm=chat, prompt=prompt)\n",
    "\n",
    "produto = \"Sofas Bicamas\"\n",
    "\n",
    "chain.run(produto)"
   ]
  },
  {
   "cell_type": "code",
   "execution_count": 6,
   "metadata": {},
   "outputs": [],
   "source": [
    "from langchain.chains import SimpleSequentialChain\n",
    "\n",
    "chat = ChatOpenAI(model=\"gpt-3.5-turbo\")"
   ]
  },
  {
   "cell_type": "code",
   "execution_count": 7,
   "metadata": {},
   "outputs": [],
   "source": [
    "prompt = PromptTemplate.from_template(\n",
    "    \"\"\"\n",
    "        Qual o melhor nome de uma empresa para uma empresa que desenvolve o produto: {produto}\n",
    "    \"\"\"\n",
    ")\n",
    "\n",
    "chain_nome = LLMChain(llm=chat, prompt=prompt)\n",
    "\n",
    "prompt_descricao = PromptTemplate.from_template(\n",
    "    \"\"\"\n",
    "    Dado a empresa com o seguinte nome: {nome_empresa}.\n",
    "    Dê uma descrição de até 50 palavras das atividades dessa empresa.\n",
    "    \"\"\"\n",
    "    )\n",
    "\n",
    "chain_descricao = LLMChain(llm=chat, prompt=prompt_descricao)"
   ]
  },
  {
   "cell_type": "code",
   "execution_count": null,
   "metadata": {},
   "outputs": [],
   "source": [
    "chain = SimpleSequentialChain(chains=[chain_nome, chain_descricao], verbose=True)\n",
    "\n",
    "produto = \"Confeitaria Artesanal com especialidade em pave e cones trufados blindados de chocolate\"\n",
    "\n",
    "chain.run(produto)"
   ]
  },
  {
   "cell_type": "code",
   "execution_count": 9,
   "metadata": {},
   "outputs": [],
   "source": [
    "from langchain.chains import SequentialChain\n",
    "\n",
    "chat = ChatOpenAI(model=\"gpt-3.5-turbo\")"
   ]
  },
  {
   "cell_type": "code",
   "execution_count": 10,
   "metadata": {},
   "outputs": [],
   "source": [
    "prompt = PromptTemplate.from_template(\n",
    "    \"\"\"\n",
    "        Qual o melhor nome de uma empresa para uma empresa que desenvolve o produto: {produto}\n",
    "    \"\"\"\n",
    ")\n",
    "\n",
    "chain_nome = LLMChain(llm=chat, prompt=prompt, output_key=\"nome_empresa\")\n",
    "\n",
    "prompt_descricao = PromptTemplate.from_template(\n",
    "    \"\"\"\n",
    "    Dado a empresa com o seguinte nome: {nome_empresa},\n",
    "    e que produz o seguinte produto: {produto}.\n",
    "    Dê uma descrição de até 50 palavras das atividades dessa empresa.\n",
    "    \"\"\"\n",
    "    )\n",
    "\n",
    "chain_descricao = LLMChain(llm=chat, prompt=prompt_descricao,output_key=\"descricao_empresa\")\n",
    "\n",
    "prompt_traducao = PromptTemplate.from_template(\n",
    "    \"\"\"\n",
    "Crie um nome em ingles para a empresa: {nome_empresa}\n",
    "que possui a seguinte descrição: {descricao_empresa}\n",
    "    \"\"\"\n",
    "    )\n",
    "\n",
    "chain_traducao = LLMChain(llm=chat, prompt=prompt_traducao,output_key=\"nome_ingles\")"
   ]
  },
  {
   "cell_type": "code",
   "execution_count": null,
   "metadata": {},
   "outputs": [],
   "source": [
    "chain = SequentialChain(\n",
    "    chains=[chain_nome, chain_descricao, chain_traducao],\n",
    "    input_variables=[\"produto\"],\n",
    "    output_variables=[\"nome_empresa\", \"descricao_empresa\", \"nome_ingles\"],\n",
    "    verbose=True\n",
    ")\n",
    "\n",
    "produto = \"Confeitaria Especializada em pave , cones trufados e mais maravilhas \"\n",
    "\n",
    "chain.invoke({\"produto\" : produto})"
   ]
  },
  {
   "cell_type": "code",
   "execution_count": null,
   "metadata": {},
   "outputs": [],
   "source": []
  }
 ],
 "metadata": {
  "kernelspec": {
   "display_name": "venv",
   "language": "python",
   "name": "python3"
  },
  "language_info": {
   "codemirror_mode": {
    "name": "ipython",
    "version": 3
   },
   "file_extension": ".py",
   "mimetype": "text/x-python",
   "name": "python",
   "nbconvert_exporter": "python",
   "pygments_lexer": "ipython3",
   "version": "3.12.3"
  }
 },
 "nbformat": 4,
 "nbformat_minor": 2
}
